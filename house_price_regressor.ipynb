{
  "nbformat": 4,
  "nbformat_minor": 0,
  "metadata": {
    "colab": {
      "name": "house_price_regressor.ipynb",
      "provenance": [],
      "collapsed_sections": [],
      "mount_file_id": "1eKuFVYmCgak7R677V4KrzX7Lk8A-Y4DT",
      "authorship_tag": "ABX9TyPZRE4jwpK1dmwzPS/XpF8U",
      "include_colab_link": true
    },
    "kernelspec": {
      "name": "python3",
      "display_name": "Python 3"
    },
    "language_info": {
      "name": "python"
    }
  },
  "cells": [
    {
      "cell_type": "markdown",
      "metadata": {
        "id": "view-in-github",
        "colab_type": "text"
      },
      "source": [
        "<a href=\"https://colab.research.google.com/github/AngelCBC/house-price-regression/blob/main/house_price_regressor.ipynb\" target=\"_parent\"><img src=\"https://colab.research.google.com/assets/colab-badge.svg\" alt=\"Open In Colab\"/></a>"
      ]
    },
    {
      "cell_type": "code",
      "metadata": {
        "colab": {
          "base_uri": "https://localhost:8080/"
        },
        "id": "gd3R1dlE95xP",
        "outputId": "47b79a99-1bed-4dc5-b2dc-dceb3cc20a9c"
      },
      "source": [
        "# Set up\n",
        "\n",
        "import numpy.random as rnd\n",
        "import numpy as np\n",
        "rnd.seed(42)\n",
        "\n",
        "# Directory\n",
        "%cd \"/content\""
      ],
      "execution_count": 1,
      "outputs": [
        {
          "output_type": "stream",
          "name": "stdout",
          "text": [
            "/content\n"
          ]
        }
      ]
    },
    {
      "cell_type": "code",
      "metadata": {
        "colab": {
          "base_uri": "https://localhost:8080/"
        },
        "id": "Dtn0K3pO9U0J",
        "outputId": "c50018ac-8e3e-4769-c0e8-e7e75efdbf93"
      },
      "source": [
        "# Get the Data.\n",
        "\n",
        "import os, tarfile\n",
        "from six.moves import urllib\n",
        "\n",
        "DATASETS_URL = \"https://github.com/ageron/handson-ml/raw/master/datasets\"\n",
        "HOUSING_PATH = os.getcwd()+ os.path.join(\"/datasets\",\"housing\")\n",
        "HOUSING_URL = DATASETS_URL + \"/housing/housing.tgz\"\n",
        "\n",
        "def fetch_housing_data(housing_url=HOUSING_URL, housing_path=HOUSING_PATH):\n",
        "    if not os.path.exists(housing_path):\n",
        "        os.makedirs(housing_path)\n",
        "    tgz_path = os.path.join(housing_path, \"housing.tgz\")\n",
        "    urllib.request.urlretrieve(housing_url,tgz_path)\n",
        "    housing_tgz = tarfile.open(tgz_path)\n",
        "    housing_tgz.extractall(path=housing_path)\n",
        "    print(\"Done!\")\n",
        "    housing_tgz.close()\n",
        "\n",
        "fetch_housing_data()"
      ],
      "execution_count": 2,
      "outputs": [
        {
          "output_type": "stream",
          "name": "stdout",
          "text": [
            "Done!\n"
          ]
        }
      ]
    },
    {
      "cell_type": "code",
      "metadata": {
        "colab": {
          "base_uri": "https://localhost:8080/",
          "height": 201
        },
        "id": "4Z1whp_v9U2a",
        "outputId": "e38b9272-e4ec-48a5-d9d5-b3788ca99cff"
      },
      "source": [
        "# Load the Data.\n",
        "\n",
        "import pandas as pd\n",
        "\n",
        "def load_housing_data(housing_path=HOUSING_PATH):\n",
        "    csv_path = os.path.join(housing_path, \"housing.csv\")\n",
        "    return pd.read_csv(csv_path)\n",
        "\n",
        "housing = load_housing_data()\n",
        "housing.head()"
      ],
      "execution_count": 3,
      "outputs": [
        {
          "output_type": "execute_result",
          "data": {
            "text/html": [
              "<div>\n",
              "<style scoped>\n",
              "    .dataframe tbody tr th:only-of-type {\n",
              "        vertical-align: middle;\n",
              "    }\n",
              "\n",
              "    .dataframe tbody tr th {\n",
              "        vertical-align: top;\n",
              "    }\n",
              "\n",
              "    .dataframe thead th {\n",
              "        text-align: right;\n",
              "    }\n",
              "</style>\n",
              "<table border=\"1\" class=\"dataframe\">\n",
              "  <thead>\n",
              "    <tr style=\"text-align: right;\">\n",
              "      <th></th>\n",
              "      <th>longitude</th>\n",
              "      <th>latitude</th>\n",
              "      <th>housing_median_age</th>\n",
              "      <th>total_rooms</th>\n",
              "      <th>total_bedrooms</th>\n",
              "      <th>population</th>\n",
              "      <th>households</th>\n",
              "      <th>median_income</th>\n",
              "      <th>median_house_value</th>\n",
              "      <th>ocean_proximity</th>\n",
              "    </tr>\n",
              "  </thead>\n",
              "  <tbody>\n",
              "    <tr>\n",
              "      <th>0</th>\n",
              "      <td>-122.23</td>\n",
              "      <td>37.88</td>\n",
              "      <td>41.0</td>\n",
              "      <td>880.0</td>\n",
              "      <td>129.0</td>\n",
              "      <td>322.0</td>\n",
              "      <td>126.0</td>\n",
              "      <td>8.3252</td>\n",
              "      <td>452600.0</td>\n",
              "      <td>NEAR BAY</td>\n",
              "    </tr>\n",
              "    <tr>\n",
              "      <th>1</th>\n",
              "      <td>-122.22</td>\n",
              "      <td>37.86</td>\n",
              "      <td>21.0</td>\n",
              "      <td>7099.0</td>\n",
              "      <td>1106.0</td>\n",
              "      <td>2401.0</td>\n",
              "      <td>1138.0</td>\n",
              "      <td>8.3014</td>\n",
              "      <td>358500.0</td>\n",
              "      <td>NEAR BAY</td>\n",
              "    </tr>\n",
              "    <tr>\n",
              "      <th>2</th>\n",
              "      <td>-122.24</td>\n",
              "      <td>37.85</td>\n",
              "      <td>52.0</td>\n",
              "      <td>1467.0</td>\n",
              "      <td>190.0</td>\n",
              "      <td>496.0</td>\n",
              "      <td>177.0</td>\n",
              "      <td>7.2574</td>\n",
              "      <td>352100.0</td>\n",
              "      <td>NEAR BAY</td>\n",
              "    </tr>\n",
              "    <tr>\n",
              "      <th>3</th>\n",
              "      <td>-122.25</td>\n",
              "      <td>37.85</td>\n",
              "      <td>52.0</td>\n",
              "      <td>1274.0</td>\n",
              "      <td>235.0</td>\n",
              "      <td>558.0</td>\n",
              "      <td>219.0</td>\n",
              "      <td>5.6431</td>\n",
              "      <td>341300.0</td>\n",
              "      <td>NEAR BAY</td>\n",
              "    </tr>\n",
              "    <tr>\n",
              "      <th>4</th>\n",
              "      <td>-122.25</td>\n",
              "      <td>37.85</td>\n",
              "      <td>52.0</td>\n",
              "      <td>1627.0</td>\n",
              "      <td>280.0</td>\n",
              "      <td>565.0</td>\n",
              "      <td>259.0</td>\n",
              "      <td>3.8462</td>\n",
              "      <td>342200.0</td>\n",
              "      <td>NEAR BAY</td>\n",
              "    </tr>\n",
              "  </tbody>\n",
              "</table>\n",
              "</div>"
            ],
            "text/plain": [
              "   longitude  latitude  ...  median_house_value  ocean_proximity\n",
              "0    -122.23     37.88  ...            452600.0         NEAR BAY\n",
              "1    -122.22     37.86  ...            358500.0         NEAR BAY\n",
              "2    -122.24     37.85  ...            352100.0         NEAR BAY\n",
              "3    -122.25     37.85  ...            341300.0         NEAR BAY\n",
              "4    -122.25     37.85  ...            342200.0         NEAR BAY\n",
              "\n",
              "[5 rows x 10 columns]"
            ]
          },
          "metadata": {},
          "execution_count": 3
        }
      ]
    },
    {
      "cell_type": "code",
      "metadata": {
        "colab": {
          "base_uri": "https://localhost:8080/"
        },
        "id": "XErdlCBIABnV",
        "outputId": "ad995bc4-498e-43fe-c292-88d44bfb07da"
      },
      "source": [
        "housing.info() # Some nan in \"total_bedrooms\" attrb"
      ],
      "execution_count": 4,
      "outputs": [
        {
          "output_type": "stream",
          "name": "stdout",
          "text": [
            "<class 'pandas.core.frame.DataFrame'>\n",
            "RangeIndex: 20640 entries, 0 to 20639\n",
            "Data columns (total 10 columns):\n",
            " #   Column              Non-Null Count  Dtype  \n",
            "---  ------              --------------  -----  \n",
            " 0   longitude           20640 non-null  float64\n",
            " 1   latitude            20640 non-null  float64\n",
            " 2   housing_median_age  20640 non-null  float64\n",
            " 3   total_rooms         20640 non-null  float64\n",
            " 4   total_bedrooms      20433 non-null  float64\n",
            " 5   population          20640 non-null  float64\n",
            " 6   households          20640 non-null  float64\n",
            " 7   median_income       20640 non-null  float64\n",
            " 8   median_house_value  20640 non-null  float64\n",
            " 9   ocean_proximity     20640 non-null  object \n",
            "dtypes: float64(9), object(1)\n",
            "memory usage: 1.6+ MB\n"
          ]
        }
      ]
    },
    {
      "cell_type": "code",
      "metadata": {
        "colab": {
          "base_uri": "https://localhost:8080/"
        },
        "id": "bmCCt8TS9U4p",
        "outputId": "5c8b1791-cee7-474f-e35b-8bfb3836ec5c"
      },
      "source": [
        "housing[\"ocean_proximity\"].value_counts() # non-float64 attrb"
      ],
      "execution_count": 5,
      "outputs": [
        {
          "output_type": "execute_result",
          "data": {
            "text/plain": [
              "<1H OCEAN     9136\n",
              "INLAND        6551\n",
              "NEAR OCEAN    2658\n",
              "NEAR BAY      2290\n",
              "ISLAND           5\n",
              "Name: ocean_proximity, dtype: int64"
            ]
          },
          "metadata": {},
          "execution_count": 5
        }
      ]
    },
    {
      "cell_type": "code",
      "metadata": {
        "id": "DmDkbeKNG4WV"
      },
      "source": [
        "from sklearn.model_selection import StratifiedShuffleSplit\n",
        "\n",
        "# Train test split fn.\n",
        "\n",
        "def custom_train_test(data, test_size=0.2):\n",
        "    # Categories to shuffle the data. \n",
        "    categories = pd.cut(data[\"median_income\"],bins=[0., 1.5, 3.0, 4.5, 6.,np.inf],\n",
        "                        labels= [1, 2, 3, 4, 5])\n",
        "    \n",
        "    # Train-test Stratified Shuffle split.\n",
        "    split = StratifiedShuffleSplit(n_splits=1, test_size=test_size, \n",
        "                                   random_state=42)\n",
        "    for train_index, test_index in split.split(data, categories):\n",
        "        train_data = data.loc[train_index]\n",
        "        train_labels = data[\"median_house_value\"].loc[train_index]\n",
        "        test_data = data.loc[test_index]\n",
        "        test_labels = data[\"median_house_value\"].loc[test_index]\n",
        "\n",
        "    # Drop the label column in the training and testing data.\n",
        "    for set_ in (train_data, test_data):\n",
        "        set_.drop(\"median_house_value\", axis=1, inplace=True)\n",
        "\n",
        "    return train_data, train_labels, test_data, test_labels"
      ],
      "execution_count": 6,
      "outputs": []
    },
    {
      "cell_type": "code",
      "metadata": {
        "id": "5Sjbpum-GO0T"
      },
      "source": [
        "from sklearn.base import BaseEstimator, TransformerMixin\n",
        "\n",
        "# Class to create some extra attributes in the data.\n",
        "\n",
        "class CombinedAttributesAdder(BaseEstimator, TransformerMixin):\n",
        "    fit = lambda self, X, y=None : self # returns itself.\n",
        "    def transform(self, X):\n",
        "        # Class indices to operate in the pandas dataframe.\n",
        "        col_names = \"total_rooms\", \"total_bedrooms\", \"population\", \"households\"\n",
        "        rooms_ix, bedrooms_ix, population_ix, households_ix = [\n",
        "                            housing.columns.get_loc(c) for c in col_names]\n",
        "\n",
        "        # Attributes formation.\n",
        "        rooms_per_household = X[:, rooms_ix] / X[:, households_ix]\n",
        "        population_per_household = X[:, population_ix] / X[:, households_ix]\n",
        "        bedrooms_per_room = X[:, bedrooms_ix] / X[:, rooms_ix]\n",
        "      \n",
        "        return np.c_[X, rooms_per_household, population_per_household,\n",
        "                bedrooms_per_room]"
      ],
      "execution_count": 7,
      "outputs": []
    },
    {
      "cell_type": "code",
      "metadata": {
        "id": "s0TAmWA2_07Q"
      },
      "source": [
        "from sklearn.ensemble import RandomForestRegressor\n",
        "\n",
        "# Determine the most important k-features with a Random Forest Regressor.\n",
        "\n",
        "def best_attrbs(data, labels, k):\n",
        "    # Random Forest Regression model.\n",
        "    rf_reg = RandomForestRegressor()\n",
        "    rf_reg.fit(data, labels)\n",
        "    importance = rf_reg.feature_importances_\n",
        "    return np.sort(np.argpartition(importance, -k)[-k:])\n",
        "\n",
        "class FeatureSelector(BaseEstimator, TransformerMixin):\n",
        "    def __init__(self, k):\n",
        "        self.k = k\n",
        "    def fit(self, X, y):\n",
        "        self.selection = best_attrbs(X, y, self.k)\n",
        "        return self \n",
        "    def transform(self, X):\n",
        "        return X[:, self.selection]"
      ],
      "execution_count": 8,
      "outputs": []
    },
    {
      "cell_type": "code",
      "metadata": {
        "id": "zLsVe7aWA4io"
      },
      "source": [
        "from sklearn.compose import ColumnTransformer\n",
        "from sklearn.pipeline import Pipeline\n",
        "from sklearn.preprocessing import StandardScaler, OneHotEncoder\n",
        "from sklearn.impute import SimpleImputer\n",
        "from sklearn.metrics import mean_squared_error\n",
        "from scipy.stats import randint\n",
        "from sklearn.model_selection import RandomizedSearchCV\n",
        "from sklearn.svm import SVR\n",
        "\n",
        "# Numeric and non-numeric attrbs.\n",
        "non_num_attrb = [\"ocean_proximity\"]\n",
        "num_attrbs = list(housing.drop([\"ocean_proximity\", \"median_house_value\"], axis=1))\n",
        "\n",
        "# Processing the dataset.\n",
        "def processing_housing_data(data, n_iter, num_attrbs=num_attrbs,\n",
        "                            non_numeric_attrbs=non_num_attrb):\n",
        "    train_data, train_labels, test_data, test_labels = custom_train_test(data)\n",
        "    \n",
        "    # Pipelines for the data transformation.\n",
        "    pipeline = ColumnTransformer([\n",
        "        (\"numeric\", Pipeline([ \n",
        "                    (\"imputer\", SimpleImputer()), \n",
        "                    ('attribs_adder', CombinedAttributesAdder()),\n",
        "                    ('std_scaler', StandardScaler()),]), num_attrbs),\n",
        "        (\"categorical\", OneHotEncoder(handle_unknown = 'ignore'), non_numeric_attrbs)\n",
        "    ])\n",
        "\n",
        "    full_pipeline = Pipeline([\n",
        "        (\"prep\", pipeline),\n",
        "        (\"attrb_selection\", FeatureSelector(1)),\n",
        "        (\"SVR\", SVR()),\n",
        "    ])\n",
        "    \n",
        "    # Random Search with cross-validation.\n",
        "    param_distributions = {\n",
        "        \"prep__numeric__imputer__strategy\": [\"mean\", \"median\", \"most_frequent\"],\n",
        "        \"SVR__C\": randint(low=1, high=1e3),\n",
        "        \"SVR__gamma\": randint(low=1e-3, high=1e3),\n",
        "        \"SVR__kernel\": [\"linear\", \"rbf\"],\n",
        "        \"attrb_selection__k\": randint(low=1, high=train_data.shape[1] + 4),\n",
        "    }\n",
        "    search = RandomizedSearchCV(full_pipeline, param_distributions,\n",
        "                                n_iter=n_iter, scoring=\"neg_mean_squared_error\", \n",
        "                                cv=5, random_state=42, verbose=3)\n",
        "    search.fit(train_data, train_labels)\n",
        "\n",
        "    # Predictions in the test set.\n",
        "    y_pred = search.predict(test_data)\n",
        "\n",
        "    return mean_squared_error(test_labels, y_pred, squared=False)"
      ],
      "execution_count": 12,
      "outputs": []
    },
    {
      "cell_type": "code",
      "metadata": {
        "colab": {
          "base_uri": "https://localhost:8080/"
        },
        "id": "1S2jYeG1-3A8",
        "outputId": "ff266e8c-f4ad-4f37-b07b-a14fe14a2486"
      },
      "source": [
        "rmse = processing_housing_data(data=housing, n_iter=2)\n",
        "print(\"The RMSE of the test set is:\", rmse)"
      ],
      "execution_count": 13,
      "outputs": [
        {
          "output_type": "stream",
          "name": "stdout",
          "text": [
            "Fitting 5 folds for each of 2 candidates, totalling 10 fits\n",
            "[CV 1/5] END SVR__C=103, SVR__gamma=435, SVR__kernel=linear, attrb_selection__k=11, prep__numeric__imputer__strategy=mean;, score=-5195329208.537 total time=  22.2s\n",
            "[CV 2/5] END SVR__C=103, SVR__gamma=435, SVR__kernel=linear, attrb_selection__k=11, prep__numeric__imputer__strategy=mean;, score=-4908236764.291 total time=  22.0s\n",
            "[CV 3/5] END SVR__C=103, SVR__gamma=435, SVR__kernel=linear, attrb_selection__k=11, prep__numeric__imputer__strategy=mean;, score=-5407937378.006 total time=  21.9s\n",
            "[CV 4/5] END SVR__C=103, SVR__gamma=435, SVR__kernel=linear, attrb_selection__k=11, prep__numeric__imputer__strategy=mean;, score=-5910841519.632 total time=  22.0s\n",
            "[CV 5/5] END SVR__C=103, SVR__gamma=435, SVR__kernel=linear, attrb_selection__k=11, prep__numeric__imputer__strategy=mean;, score=-5119749337.330 total time=  21.9s\n",
            "[CV 1/5] END SVR__C=21, SVR__gamma=614, SVR__kernel=rbf, attrb_selection__k=3, prep__numeric__imputer__strategy=most_frequent;, score=-14004317061.837 total time=  28.7s\n",
            "[CV 2/5] END SVR__C=21, SVR__gamma=614, SVR__kernel=rbf, attrb_selection__k=3, prep__numeric__imputer__strategy=most_frequent;, score=-13661995809.467 total time=  28.7s\n",
            "[CV 3/5] END SVR__C=21, SVR__gamma=614, SVR__kernel=rbf, attrb_selection__k=3, prep__numeric__imputer__strategy=most_frequent;, score=-14120181366.703 total time=  28.8s\n",
            "[CV 4/5] END SVR__C=21, SVR__gamma=614, SVR__kernel=rbf, attrb_selection__k=3, prep__numeric__imputer__strategy=most_frequent;, score=-14139763137.498 total time=  28.9s\n",
            "[CV 5/5] END SVR__C=21, SVR__gamma=614, SVR__kernel=rbf, attrb_selection__k=3, prep__numeric__imputer__strategy=most_frequent;, score=-14239135590.993 total time=  28.9s\n",
            "The RMSE of the test set is: 72065.49680178604\n"
          ]
        }
      ]
    }
  ]
}